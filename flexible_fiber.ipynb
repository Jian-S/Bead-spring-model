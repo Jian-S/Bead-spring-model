{
 "cells": [
  {
   "cell_type": "code",
   "execution_count": 1,
   "id": "92191c0a",
   "metadata": {},
   "outputs": [],
   "source": [
    "# hydra bending \n",
    "#                      by Jian 2021.12.13\n",
    "# Import Pakages\n",
    "\n",
    "import numpy as np\n",
    "import matplotlib.pyplot as plt\n",
    "import random\n",
    "import math\n",
    "import csv"
   ]
  },
  {
   "cell_type": "code",
   "execution_count": 2,
   "id": "3b05b9dd",
   "metadata": {},
   "outputs": [],
   "source": [
    "def initialize(N,l0):\n",
    "    point = np.zeros((N,2))\n",
    "    for i in range(N):\n",
    "        point[i,0]=l0*i\n",
    "        point[i,1]=0\n",
    "    return point"
   ]
  },
  {
   "cell_type": "code",
   "execution_count": 3,
   "id": "90935cf0",
   "metadata": {},
   "outputs": [],
   "source": [
    "def force_caculation(r,l0,ks,kb,N): \n",
    "    tot_F = np.zeros((N,2)) \n",
    "    Fs    = np.zeros((N,2))       # spring force\n",
    "    Fb    = np.zeros((N,2))       # bending force\n",
    "    rdiff = np.zeros(N)           # r norm  \\r_i+1-r_i\\\n",
    "    tvect = np.zeros((N,2))       # unit t vector\n",
    "    nvect = np.zeros((N,2))       # unit n vector\n",
    "    theta = np.zeros(N)\n",
    "    alpha = np.zeros(N)\n",
    "    G     = np.zeros(N)\n",
    "    \n",
    "    for i in range(N): # parameters related to locations of two points \n",
    "        if i< N-1:\n",
    "            rdiff[i]= np.linalg.norm(r[i+1,:]-r[i,:])  # r_i+1-r_i\n",
    "            tvect[i]= (r[i+1,:]-r[i,:])/rdiff[i]\n",
    "            nvect[i]= np.array([-(r[i+1,1]-r[i,1]),(r[i+1,0]-r[i,0])])/rdiff[i]\n",
    "            theta[i]= np.arctan2(tvect[i,1],tvect[i,0])\n",
    "            \n",
    "            \n",
    "    for i in range(N-1): # parameters related to locations of three points \n",
    "        if i< N-2:\n",
    "            alpha[i]=theta[i+1]-theta[i]\n",
    "            if abs(alpha[i])>= np.pi/2:\n",
    "                alpha[i]=alpha[i]+2*np.pi            \n",
    "            G[i]    =alpha[i]-Theta0\n",
    "        \n",
    "    for i in range(N): # force\n",
    "        if i==0:\n",
    "            Fs[i] = ks*(rdiff[i]-l0)*tvect[i]\n",
    "            Fb[i] = -kb/l0*G[i]/rdiff[i]*nvect[i]\n",
    "            continue\n",
    "            \n",
    "        if i==N-1:\n",
    "            Fs[i] = -ks*(rdiff[i-1]-l0)*tvect[i-1]\n",
    "            Fb[i] = - kb/l0*(G[i-2]/rdiff[i-1]*nvect[i-1])\n",
    "            #print(Fb[i])\n",
    "            continue     \n",
    "            \n",
    "        if i==1:\n",
    "            Fs[i] = ks*(rdiff[i]-l0)*tvect[i]-ks*(rdiff[i-1]-l0)*tvect[i-1]\n",
    "            Fb[i] = kb/l0*(G[i-1]/rdiff[i-1]*nvect[i-1]-(G[i]-G[i-1])/rdiff[i]*nvect[i])\n",
    "            #print(Fb[i])\n",
    "            continue\n",
    "        \n",
    "\n",
    "                      \n",
    "        if i==N-2:\n",
    "            Fs[i] = ks*(rdiff[i]-l0)*tvect[i]-ks*(rdiff[i-1]-l0)*tvect[i-1]\n",
    "            Fb[i] = kb/l0*((G[i-1]-G[i-2])/rdiff[i-1]*nvect[i-1]+G[i-1]/rdiff[i]*nvect[i])\n",
    "            #print(Fb[i])\n",
    "            continue\n",
    "       \n",
    "        else:\n",
    "            Fs[i] =ks*(rdiff[i]-l0)*tvect[i]-ks*(rdiff[i-1]-l0)*tvect[i-1]\n",
    "            Fb[i] =kb/l0*((G[i-1]-G[i-2])/rdiff[i-1]*nvect[i-1]-(G[i]-G[i-1])/rdiff[i]*nvect[i])\n",
    "            #print(Fb[i])\n",
    "\n",
    "    tot_F=Fs+Fb\n",
    "   # print(tot_F)\n",
    "    \n",
    "    return (tot_F)"
   ]
  },
  {
   "cell_type": "code",
   "execution_count": 4,
   "id": "43b15992",
   "metadata": {
    "scrolled": false
   },
   "outputs": [],
   "source": [
    "bc     = 1                     # boundary condition 0 free  1 supporting 2 hinged 3.clamped\n",
    "nl     = 1                     # 1, 2   length of chain\n",
    "\n",
    "###############################################################################################\n",
    "\n",
    "\n",
    "ks     = 1000.0               # K=k_s/k_b=50\n",
    "kb     = 1.0    \n",
    "R0     = 1                    # reference length\n",
    "Theta0 = np.pi/30             # np.pi/30\n",
    "l0     = Theta0*R0\n",
    "ntheta = Theta0/np.pi\n",
    "N     = int(nl/ntheta)+1\n",
    "\n",
    "\n",
    "r     = np.zeros((N,2))       # position\n",
    "tot_force    = np.zeros((N,2))\n",
    "\n",
    "if bc == 2 or bc == 3:\n",
    "    Theta0=-np.pi/60\n",
    "\n",
    "r     = initialize(N,l0)   \n",
    "\n",
    "t     = 0\n",
    "step  = 0\n",
    "dt    = 1e-4\n"
   ]
  },
  {
   "cell_type": "code",
   "execution_count": 5,
   "id": "47737e7c",
   "metadata": {
    "scrolled": false
   },
   "outputs": [
    {
     "data": {
      "image/png": "[encoded data removed]",
      "text/plain": [
       "<Figure size 432x288 with 1 Axes>"
      ]
     },
     "metadata": {
      "needs_background": "light"
     },
     "output_type": "display_data"
    },
    {
     "name": "stdout",
     "output_type": "stream",
     "text": [
      "t: 0.0001\n",
      "end-to-end distance\n",
      "3.141592653589793\n",
      "\n",
      "\n",
      "\n"
     ]
    },
    {
     "data": {
      "image/png": "[encoded data removed]",
      "text/plain": [
       "<Figure size 432x288 with 1 Axes>"
      ]
     },
     "metadata": {
      "needs_background": "light"
     },
     "output_type": "display_data"
    },
    {
     "name": "stdout",
     "output_type": "stream",
     "text": [
      "t: 0.1\n",
      "end-to-end distance\n",
      "3.117948828850157\n",
      "\n",
      "\n",
      "\n"
     ]
    },
    {
     "data": {
      "image/png": "[encoded data removed]",
      "text/plain": [
       "<Figure size 432x288 with 1 Axes>"
      ]
     },
     "metadata": {
      "needs_background": "light"
     },
     "output_type": "display_data"
    },
    {
     "name": "stdout",
     "output_type": "stream",
     "text": [
      "t: 0.2\n",
      "end-to-end distance\n",
      "3.098286181289683\n",
      "\n",
      "\n",
      "\n"
     ]
    },
    {
     "data": {
      "image/png": "[encoded data removed]",
      "text/plain": [
       "<Figure size 432x288 with 1 Axes>"
      ]
     },
     "metadata": {
      "needs_background": "light"
     },
     "output_type": "display_data"
    },
    {
     "name": "stdout",
     "output_type": "stream",
     "text": [
      "t: 0.3\n",
      "end-to-end distance\n",
      "3.080091397100293\n",
      "\n",
      "\n",
      "\n"
     ]
    },
    {
     "data": {
      "image/png": "[encoded data removed]",
      "text/plain": [
       "<Figure size 432x288 with 1 Axes>"
      ]
     },
     "metadata": {
      "needs_background": "light"
     },
     "output_type": "display_data"
    },
    {
     "name": "stdout",
     "output_type": "stream",
     "text": [
      "t: 0.4\n",
      "end-to-end distance\n",
      "3.0630683957186378\n",
      "\n",
      "\n",
      "\n"
     ]
    },
    {
     "data": {
      "image/png": "[encoded data removed]",
      "text/plain": [
       "<Figure size 432x288 with 1 Axes>"
      ]
     },
     "metadata": {
      "needs_background": "light"
     },
     "output_type": "display_data"
    },
    {
     "name": "stdout",
     "output_type": "stream",
     "text": [
      "t: 0.5\n",
      "end-to-end distance\n",
      "3.046856598879509\n",
      "\n",
      "\n",
      "\n"
     ]
    },
    {
     "data": {
      "image/png": "[encoded data removed]",
      "text/plain": [
       "<Figure size 432x288 with 1 Axes>"
      ]
     },
     "metadata": {
      "needs_background": "light"
     },
     "output_type": "display_data"
    },
    {
     "name": "stdout",
     "output_type": "stream",
     "text": [
      "t: 0.6\n",
      "end-to-end distance\n",
      "3.031258569004882\n",
      "\n",
      "\n",
      "\n"
     ]
    },
    {
     "data": {
      "image/png": "[encoded data removed]",
      "text/plain": [
       "<Figure size 432x288 with 1 Axes>"
      ]
     },
     "metadata": {
      "needs_background": "light"
     },
     "output_type": "display_data"
    },
    {
     "name": "stdout",
     "output_type": "stream",
     "text": [
      "t: 0.7000000000000001\n",
      "end-to-end distance\n",
      "3.0163653980887615\n",
      "\n",
      "\n",
      "\n"
     ]
    },
    {
     "ename": "KeyboardInterrupt",
     "evalue": "",
     "output_type": "error",
     "traceback": [
      "\u001b[1;31m---------------------------------------------------------------------------\u001b[0m",
      "\u001b[1;31mKeyboardInterrupt\u001b[0m                         Traceback (most recent call last)",
      "\u001b[1;32m~\\AppData\\Local\\Temp/ipykernel_93896/3564732018.py\u001b[0m in \u001b[0;36m<module>\u001b[1;34m\u001b[0m\n\u001b[0;32m      6\u001b[0m     \u001b[0mt\u001b[0m \u001b[1;33m=\u001b[0m \u001b[0mdt\u001b[0m\u001b[1;33m*\u001b[0m\u001b[0mstep\u001b[0m\u001b[1;33m\u001b[0m\u001b[1;33m\u001b[0m\u001b[0m\n\u001b[0;32m      7\u001b[0m \u001b[1;33m\u001b[0m\u001b[0m\n\u001b[1;32m----> 8\u001b[1;33m     \u001b[0mtot_force\u001b[0m\u001b[1;33m=\u001b[0m\u001b[0mforce_caculation\u001b[0m\u001b[1;33m(\u001b[0m\u001b[0mr\u001b[0m\u001b[1;33m,\u001b[0m\u001b[0ml0\u001b[0m\u001b[1;33m,\u001b[0m\u001b[0mks\u001b[0m\u001b[1;33m,\u001b[0m\u001b[0mkb\u001b[0m\u001b[1;33m,\u001b[0m\u001b[0mN\u001b[0m\u001b[1;33m)\u001b[0m\u001b[1;33m\u001b[0m\u001b[1;33m\u001b[0m\u001b[0m\n\u001b[0m\u001b[0;32m      9\u001b[0m \u001b[1;33m\u001b[0m\u001b[0m\n\u001b[0;32m     10\u001b[0m     \u001b[0mr\u001b[0m \u001b[1;33m=\u001b[0m \u001b[0mr\u001b[0m \u001b[1;33m+\u001b[0m \u001b[0mdt\u001b[0m\u001b[1;33m*\u001b[0m\u001b[0mtot_force\u001b[0m\u001b[1;33m\u001b[0m\u001b[1;33m\u001b[0m\u001b[0m\n",
      "\u001b[1;32m~\\AppData\\Local\\Temp/ipykernel_93896/430729410.py\u001b[0m in \u001b[0;36mforce_caculation\u001b[1;34m(r, l0, ks, kb, N)\u001b[0m\n\u001b[0;32m     12\u001b[0m     \u001b[1;32mfor\u001b[0m \u001b[0mi\u001b[0m \u001b[1;32min\u001b[0m \u001b[0mrange\u001b[0m\u001b[1;33m(\u001b[0m\u001b[0mN\u001b[0m\u001b[1;33m)\u001b[0m\u001b[1;33m:\u001b[0m \u001b[1;31m# parameters related to locations of two points\u001b[0m\u001b[1;33m\u001b[0m\u001b[1;33m\u001b[0m\u001b[0m\n\u001b[0;32m     13\u001b[0m         \u001b[1;32mif\u001b[0m \u001b[0mi\u001b[0m\u001b[1;33m<\u001b[0m \u001b[0mN\u001b[0m\u001b[1;33m-\u001b[0m\u001b[1;36m1\u001b[0m\u001b[1;33m:\u001b[0m\u001b[1;33m\u001b[0m\u001b[1;33m\u001b[0m\u001b[0m\n\u001b[1;32m---> 14\u001b[1;33m             \u001b[0mrdiff\u001b[0m\u001b[1;33m[\u001b[0m\u001b[0mi\u001b[0m\u001b[1;33m]\u001b[0m\u001b[1;33m=\u001b[0m \u001b[0mnp\u001b[0m\u001b[1;33m.\u001b[0m\u001b[0mlinalg\u001b[0m\u001b[1;33m.\u001b[0m\u001b[0mnorm\u001b[0m\u001b[1;33m(\u001b[0m\u001b[0mr\u001b[0m\u001b[1;33m[\u001b[0m\u001b[0mi\u001b[0m\u001b[1;33m+\u001b[0m\u001b[1;36m1\u001b[0m\u001b[1;33m,\u001b[0m\u001b[1;33m:\u001b[0m\u001b[1;33m]\u001b[0m\u001b[1;33m-\u001b[0m\u001b[0mr\u001b[0m\u001b[1;33m[\u001b[0m\u001b[0mi\u001b[0m\u001b[1;33m,\u001b[0m\u001b[1;33m:\u001b[0m\u001b[1;33m]\u001b[0m\u001b[1;33m)\u001b[0m  \u001b[1;31m# r_i+1-r_i\u001b[0m\u001b[1;33m\u001b[0m\u001b[1;33m\u001b[0m\u001b[0m\n\u001b[0m\u001b[0;32m     15\u001b[0m             \u001b[0mtvect\u001b[0m\u001b[1;33m[\u001b[0m\u001b[0mi\u001b[0m\u001b[1;33m]\u001b[0m\u001b[1;33m=\u001b[0m \u001b[1;33m(\u001b[0m\u001b[0mr\u001b[0m\u001b[1;33m[\u001b[0m\u001b[0mi\u001b[0m\u001b[1;33m+\u001b[0m\u001b[1;36m1\u001b[0m\u001b[1;33m,\u001b[0m\u001b[1;33m:\u001b[0m\u001b[1;33m]\u001b[0m\u001b[1;33m-\u001b[0m\u001b[0mr\u001b[0m\u001b[1;33m[\u001b[0m\u001b[0mi\u001b[0m\u001b[1;33m,\u001b[0m\u001b[1;33m:\u001b[0m\u001b[1;33m]\u001b[0m\u001b[1;33m)\u001b[0m\u001b[1;33m/\u001b[0m\u001b[0mrdiff\u001b[0m\u001b[1;33m[\u001b[0m\u001b[0mi\u001b[0m\u001b[1;33m]\u001b[0m\u001b[1;33m\u001b[0m\u001b[1;33m\u001b[0m\u001b[0m\n\u001b[0;32m     16\u001b[0m             \u001b[0mnvect\u001b[0m\u001b[1;33m[\u001b[0m\u001b[0mi\u001b[0m\u001b[1;33m]\u001b[0m\u001b[1;33m=\u001b[0m \u001b[0mnp\u001b[0m\u001b[1;33m.\u001b[0m\u001b[0marray\u001b[0m\u001b[1;33m(\u001b[0m\u001b[1;33m[\u001b[0m\u001b[1;33m-\u001b[0m\u001b[1;33m(\u001b[0m\u001b[0mr\u001b[0m\u001b[1;33m[\u001b[0m\u001b[0mi\u001b[0m\u001b[1;33m+\u001b[0m\u001b[1;36m1\u001b[0m\u001b[1;33m,\u001b[0m\u001b[1;36m1\u001b[0m\u001b[1;33m]\u001b[0m\u001b[1;33m-\u001b[0m\u001b[0mr\u001b[0m\u001b[1;33m[\u001b[0m\u001b[0mi\u001b[0m\u001b[1;33m,\u001b[0m\u001b[1;36m1\u001b[0m\u001b[1;33m]\u001b[0m\u001b[1;33m)\u001b[0m\u001b[1;33m,\u001b[0m\u001b[1;33m(\u001b[0m\u001b[0mr\u001b[0m\u001b[1;33m[\u001b[0m\u001b[0mi\u001b[0m\u001b[1;33m+\u001b[0m\u001b[1;36m1\u001b[0m\u001b[1;33m,\u001b[0m\u001b[1;36m0\u001b[0m\u001b[1;33m]\u001b[0m\u001b[1;33m-\u001b[0m\u001b[0mr\u001b[0m\u001b[1;33m[\u001b[0m\u001b[0mi\u001b[0m\u001b[1;33m,\u001b[0m\u001b[1;36m0\u001b[0m\u001b[1;33m]\u001b[0m\u001b[1;33m)\u001b[0m\u001b[1;33m]\u001b[0m\u001b[1;33m)\u001b[0m\u001b[1;33m/\u001b[0m\u001b[0mrdiff\u001b[0m\u001b[1;33m[\u001b[0m\u001b[0mi\u001b[0m\u001b[1;33m]\u001b[0m\u001b[1;33m\u001b[0m\u001b[1;33m\u001b[0m\u001b[0m\n",
      "\u001b[1;32m<__array_function__ internals>\u001b[0m in \u001b[0;36mnorm\u001b[1;34m(*args, **kwargs)\u001b[0m\n",
      "\u001b[1;32m~\\anaconda3\\lib\\site-packages\\numpy\\linalg\\linalg.py\u001b[0m in \u001b[0;36mnorm\u001b[1;34m(x, ord, axis, keepdims)\u001b[0m\n\u001b[0;32m   2527\u001b[0m                 \u001b[0msqnorm\u001b[0m \u001b[1;33m=\u001b[0m \u001b[0mdot\u001b[0m\u001b[1;33m(\u001b[0m\u001b[0mx\u001b[0m\u001b[1;33m.\u001b[0m\u001b[0mreal\u001b[0m\u001b[1;33m,\u001b[0m \u001b[0mx\u001b[0m\u001b[1;33m.\u001b[0m\u001b[0mreal\u001b[0m\u001b[1;33m)\u001b[0m \u001b[1;33m+\u001b[0m \u001b[0mdot\u001b[0m\u001b[1;33m(\u001b[0m\u001b[0mx\u001b[0m\u001b[1;33m.\u001b[0m\u001b[0mimag\u001b[0m\u001b[1;33m,\u001b[0m \u001b[0mx\u001b[0m\u001b[1;33m.\u001b[0m\u001b[0mimag\u001b[0m\u001b[1;33m)\u001b[0m\u001b[1;33m\u001b[0m\u001b[1;33m\u001b[0m\u001b[0m\n\u001b[0;32m   2528\u001b[0m             \u001b[1;32melse\u001b[0m\u001b[1;33m:\u001b[0m\u001b[1;33m\u001b[0m\u001b[1;33m\u001b[0m\u001b[0m\n\u001b[1;32m-> 2529\u001b[1;33m                 \u001b[0msqnorm\u001b[0m \u001b[1;33m=\u001b[0m \u001b[0mdot\u001b[0m\u001b[1;33m(\u001b[0m\u001b[0mx\u001b[0m\u001b[1;33m,\u001b[0m \u001b[0mx\u001b[0m\u001b[1;33m)\u001b[0m\u001b[1;33m\u001b[0m\u001b[1;33m\u001b[0m\u001b[0m\n\u001b[0m\u001b[0;32m   2530\u001b[0m             \u001b[0mret\u001b[0m \u001b[1;33m=\u001b[0m \u001b[0msqrt\u001b[0m\u001b[1;33m(\u001b[0m\u001b[0msqnorm\u001b[0m\u001b[1;33m)\u001b[0m\u001b[1;33m\u001b[0m\u001b[1;33m\u001b[0m\u001b[0m\n\u001b[0;32m   2531\u001b[0m             \u001b[1;32mif\u001b[0m \u001b[0mkeepdims\u001b[0m\u001b[1;33m:\u001b[0m\u001b[1;33m\u001b[0m\u001b[1;33m\u001b[0m\u001b[0m\n",
      "\u001b[1;32m<__array_function__ internals>\u001b[0m in \u001b[0;36mdot\u001b[1;34m(*args, **kwargs)\u001b[0m\n",
      "\u001b[1;31mKeyboardInterrupt\u001b[0m: "
     ]
    }
   ],
   "source": [
    "########################################## Evolution ################################################\n",
    "\n",
    "\n",
    "while t <= 10000 :\n",
    "    step+=1\n",
    "    t = dt*step\n",
    "    \n",
    "    tot_force=force_caculation(r,l0,ks,kb,N)\n",
    "        \n",
    "    r = r + dt*tot_force\n",
    "    leed = np.linalg.norm(r[N-1,:]-r[0,:])\n",
    "    \n",
    "\n",
    "    \n",
    "    if bc == 1:\n",
    "        for j in range(N):     # boundary condition 1\n",
    "            if r[j,1]<=0:\n",
    "                r[j,1]=0\n",
    "                \n",
    "    if bc == 2:\n",
    "        r[0,1]  = 0\n",
    "        r[N-1,1]= 0\n",
    "        \n",
    "    if bc == 3:\n",
    "        r[0,1]=0\n",
    "        r[1,1]=0\n",
    "        r[N-1,1]=0\n",
    "        r[N-2,1]=0\n",
    "        \n",
    "    \n",
    "########################################## output to file ################################################     \n",
    "    if(step==1 or step%5e4 == 0):\n",
    "        data=[t,leed]\n",
    "        \n",
    "        out_f = open('data_1.0.csv','a',newline='')\n",
    "        writer = csv.writer(out_f)\n",
    "        writer.writerow(data)\n",
    "        out_f.close()   \n",
    "        \n",
    "        out_f = open('point_1.0.csv','a',newline='')\n",
    "        writer = csv.writer(out_f)\n",
    "        writer.writerow(r.reshape(-1,1))\n",
    "        out_f.close()\n",
    "    \n",
    "    if(step==1 or step%1e4 == 0):\n",
    "        data=[t,leed]\n",
    "        \n",
    "        out_f = open('ete_1.0.csv','a',newline='')\n",
    "        writer = csv.writer(out_f)\n",
    "        writer.writerow(data)\n",
    "        out_f.close()   \n",
    "\n",
    "    \n",
    "########################################## output to screen ################################################    \n",
    "    if(step==1 or step%1e3 == 0):\n",
    "        \n",
    "        plt.plot(r[:,0],r[:,1], 'o-')\n",
    "        plt.axis('equal')    \n",
    "        plt.show()\n",
    "\n",
    "        print(\"t:\",t)\n",
    "        print (\"end-to-end distance\")\n",
    "        print (leed)\n",
    "        print (\"\\n\\n\")"
   ]
  },
  {
   "cell_type": "code",
   "execution_count": null,
   "id": "ab8ba886",
   "metadata": {},
   "outputs": [],
   "source": []
  },
  {
   "cell_type": "code",
   "execution_count": null,
   "id": "a0a74de0",
   "metadata": {},
   "outputs": [],
   "source": []
  },
  {
   "cell_type": "code",
   "execution_count": null,
   "id": "02d40069",
   "metadata": {},
   "outputs": [],
   "source": []
  }
 ],
 "metadata": {
  "kernelspec": {
   "display_name": "Python 3 (ipykernel)",
   "language": "python",
   "name": "python3"
  },
  "language_info": {
   "codemirror_mode": {
    "name": "ipython",
    "version": 3
   },
   "file_extension": ".py",
   "mimetype": "text/x-python",
   "name": "python",
   "nbconvert_exporter": "python",
   "pygments_lexer": "ipython3",
   "version": "3.9.7"
  }
 },
 "nbformat": 4,
 "nbformat_minor": 5
}
